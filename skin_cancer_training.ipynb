{
 "cells": [
  {
   "cell_type": "code",
   "execution_count": null,
   "metadata": {
    "colab": {
     "base_uri": "https://localhost:8080/"
    },
    "executionInfo": {
     "elapsed": 24111,
     "status": "ok",
     "timestamp": 1621490891786,
     "user": {
      "displayName": "Va Fa Napoli",
      "photoUrl": "",
      "userId": "17637464824648077645"
     },
     "user_tz": -330
    },
    "id": "nxuqhmXXplPU",
    "outputId": "0cdf0644-f075-4d3b-a5c8-bb9c2c8ddb21"
   },
   "outputs": [],
   "source": [
    "# USE ONLY WHILE WORKING ON COLAB\n",
    "from google.colab import drive\n",
    "drive.mount(\"/content/drive/\")"
   ]
  },
  {
   "cell_type": "code",
   "execution_count": 1,
   "metadata": {
    "executionInfo": {
     "elapsed": 1838,
     "status": "ok",
     "timestamp": 1621490869470,
     "user": {
      "displayName": "Va Fa Napoli",
      "photoUrl": "",
      "userId": "17637464824648077645"
     },
     "user_tz": -330
    },
    "id": "RWfcJdOno-bW"
   },
   "outputs": [],
   "source": [
    "import pandas as pd\n",
    "import numpy as np"
   ]
  },
  {
   "cell_type": "code",
   "execution_count": 4,
   "metadata": {
    "executionInfo": {
     "elapsed": 1327,
     "status": "ok",
     "timestamp": 1621490896437,
     "user": {
      "displayName": "Va Fa Napoli",
      "photoUrl": "",
      "userId": "17637464824648077645"
     },
     "user_tz": -330
    },
    "id": "cu1oXQ0lpwKp"
   },
   "outputs": [],
   "source": [
    "#Dataset used: https://www.kaggle.com/kmader/skin-cancer-mnist-ham10000\n",
    "path='D:/Coding/Skin_Cancer_Detection/Dataset/hmnist_28_28_RGB.csv'"
   ]
  },
  {
   "cell_type": "code",
   "execution_count": 5,
   "metadata": {
    "executionInfo": {
     "elapsed": 7059,
     "status": "ok",
     "timestamp": 1621490902649,
     "user": {
      "displayName": "Va Fa Napoli",
      "photoUrl": "",
      "userId": "17637464824648077645"
     },
     "user_tz": -330
    },
    "id": "wtXf-XTIrGX7"
   },
   "outputs": [],
   "source": [
    "df = pd.read_csv(path)"
   ]
  },
  {
   "cell_type": "code",
   "execution_count": 5,
   "metadata": {
    "colab": {
     "base_uri": "https://localhost:8080/",
     "height": 244
    },
    "executionInfo": {
     "elapsed": 6377,
     "status": "ok",
     "timestamp": 1621490902663,
     "user": {
      "displayName": "Va Fa Napoli",
      "photoUrl": "",
      "userId": "17637464824648077645"
     },
     "user_tz": -330
    },
    "id": "OG1UlYVarJ-w",
    "outputId": "535fc823-570e-42ab-b9d1-7352512d1a21"
   },
   "outputs": [
    {
     "data": {
      "text/html": [
       "<div>\n",
       "<style scoped>\n",
       "    .dataframe tbody tr th:only-of-type {\n",
       "        vertical-align: middle;\n",
       "    }\n",
       "\n",
       "    .dataframe tbody tr th {\n",
       "        vertical-align: top;\n",
       "    }\n",
       "\n",
       "    .dataframe thead th {\n",
       "        text-align: right;\n",
       "    }\n",
       "</style>\n",
       "<table border=\"1\" class=\"dataframe\">\n",
       "  <thead>\n",
       "    <tr style=\"text-align: right;\">\n",
       "      <th></th>\n",
       "      <th>pixel0000</th>\n",
       "      <th>pixel0001</th>\n",
       "      <th>pixel0002</th>\n",
       "      <th>pixel0003</th>\n",
       "      <th>pixel0004</th>\n",
       "      <th>pixel0005</th>\n",
       "      <th>pixel0006</th>\n",
       "      <th>pixel0007</th>\n",
       "      <th>pixel0008</th>\n",
       "      <th>pixel0009</th>\n",
       "      <th>pixel0010</th>\n",
       "      <th>pixel0011</th>\n",
       "      <th>pixel0012</th>\n",
       "      <th>pixel0013</th>\n",
       "      <th>pixel0014</th>\n",
       "      <th>pixel0015</th>\n",
       "      <th>pixel0016</th>\n",
       "      <th>pixel0017</th>\n",
       "      <th>pixel0018</th>\n",
       "      <th>pixel0019</th>\n",
       "      <th>pixel0020</th>\n",
       "      <th>pixel0021</th>\n",
       "      <th>pixel0022</th>\n",
       "      <th>pixel0023</th>\n",
       "      <th>pixel0024</th>\n",
       "      <th>pixel0025</th>\n",
       "      <th>pixel0026</th>\n",
       "      <th>pixel0027</th>\n",
       "      <th>pixel0028</th>\n",
       "      <th>pixel0029</th>\n",
       "      <th>pixel0030</th>\n",
       "      <th>pixel0031</th>\n",
       "      <th>pixel0032</th>\n",
       "      <th>pixel0033</th>\n",
       "      <th>pixel0034</th>\n",
       "      <th>pixel0035</th>\n",
       "      <th>pixel0036</th>\n",
       "      <th>pixel0037</th>\n",
       "      <th>pixel0038</th>\n",
       "      <th>pixel0039</th>\n",
       "      <th>...</th>\n",
       "      <th>pixel2313</th>\n",
       "      <th>pixel2314</th>\n",
       "      <th>pixel2315</th>\n",
       "      <th>pixel2316</th>\n",
       "      <th>pixel2317</th>\n",
       "      <th>pixel2318</th>\n",
       "      <th>pixel2319</th>\n",
       "      <th>pixel2320</th>\n",
       "      <th>pixel2321</th>\n",
       "      <th>pixel2322</th>\n",
       "      <th>pixel2323</th>\n",
       "      <th>pixel2324</th>\n",
       "      <th>pixel2325</th>\n",
       "      <th>pixel2326</th>\n",
       "      <th>pixel2327</th>\n",
       "      <th>pixel2328</th>\n",
       "      <th>pixel2329</th>\n",
       "      <th>pixel2330</th>\n",
       "      <th>pixel2331</th>\n",
       "      <th>pixel2332</th>\n",
       "      <th>pixel2333</th>\n",
       "      <th>pixel2334</th>\n",
       "      <th>pixel2335</th>\n",
       "      <th>pixel2336</th>\n",
       "      <th>pixel2337</th>\n",
       "      <th>pixel2338</th>\n",
       "      <th>pixel2339</th>\n",
       "      <th>pixel2340</th>\n",
       "      <th>pixel2341</th>\n",
       "      <th>pixel2342</th>\n",
       "      <th>pixel2343</th>\n",
       "      <th>pixel2344</th>\n",
       "      <th>pixel2345</th>\n",
       "      <th>pixel2346</th>\n",
       "      <th>pixel2347</th>\n",
       "      <th>pixel2348</th>\n",
       "      <th>pixel2349</th>\n",
       "      <th>pixel2350</th>\n",
       "      <th>pixel2351</th>\n",
       "      <th>label</th>\n",
       "    </tr>\n",
       "  </thead>\n",
       "  <tbody>\n",
       "    <tr>\n",
       "      <th>10010</th>\n",
       "      <td>183</td>\n",
       "      <td>165</td>\n",
       "      <td>181</td>\n",
       "      <td>182</td>\n",
       "      <td>165</td>\n",
       "      <td>180</td>\n",
       "      <td>184</td>\n",
       "      <td>166</td>\n",
       "      <td>182</td>\n",
       "      <td>188</td>\n",
       "      <td>168</td>\n",
       "      <td>182</td>\n",
       "      <td>181</td>\n",
       "      <td>157</td>\n",
       "      <td>162</td>\n",
       "      <td>205</td>\n",
       "      <td>179</td>\n",
       "      <td>188</td>\n",
       "      <td>221</td>\n",
       "      <td>199</td>\n",
       "      <td>214</td>\n",
       "      <td>224</td>\n",
       "      <td>202</td>\n",
       "      <td>215</td>\n",
       "      <td>226</td>\n",
       "      <td>201</td>\n",
       "      <td>205</td>\n",
       "      <td>223</td>\n",
       "      <td>198</td>\n",
       "      <td>206</td>\n",
       "      <td>230</td>\n",
       "      <td>207</td>\n",
       "      <td>219</td>\n",
       "      <td>228</td>\n",
       "      <td>201</td>\n",
       "      <td>211</td>\n",
       "      <td>229</td>\n",
       "      <td>203</td>\n",
       "      <td>210</td>\n",
       "      <td>223</td>\n",
       "      <td>...</td>\n",
       "      <td>225</td>\n",
       "      <td>197</td>\n",
       "      <td>195</td>\n",
       "      <td>222</td>\n",
       "      <td>193</td>\n",
       "      <td>193</td>\n",
       "      <td>228</td>\n",
       "      <td>199</td>\n",
       "      <td>202</td>\n",
       "      <td>231</td>\n",
       "      <td>202</td>\n",
       "      <td>204</td>\n",
       "      <td>227</td>\n",
       "      <td>203</td>\n",
       "      <td>206</td>\n",
       "      <td>230</td>\n",
       "      <td>211</td>\n",
       "      <td>219</td>\n",
       "      <td>231</td>\n",
       "      <td>217</td>\n",
       "      <td>223</td>\n",
       "      <td>222</td>\n",
       "      <td>204</td>\n",
       "      <td>207</td>\n",
       "      <td>202</td>\n",
       "      <td>179</td>\n",
       "      <td>180</td>\n",
       "      <td>205</td>\n",
       "      <td>180</td>\n",
       "      <td>181</td>\n",
       "      <td>208</td>\n",
       "      <td>185</td>\n",
       "      <td>187</td>\n",
       "      <td>208</td>\n",
       "      <td>186</td>\n",
       "      <td>186</td>\n",
       "      <td>206</td>\n",
       "      <td>187</td>\n",
       "      <td>189</td>\n",
       "      <td>0</td>\n",
       "    </tr>\n",
       "    <tr>\n",
       "      <th>10011</th>\n",
       "      <td>2</td>\n",
       "      <td>3</td>\n",
       "      <td>1</td>\n",
       "      <td>38</td>\n",
       "      <td>33</td>\n",
       "      <td>32</td>\n",
       "      <td>121</td>\n",
       "      <td>104</td>\n",
       "      <td>103</td>\n",
       "      <td>132</td>\n",
       "      <td>111</td>\n",
       "      <td>107</td>\n",
       "      <td>130</td>\n",
       "      <td>108</td>\n",
       "      <td>104</td>\n",
       "      <td>136</td>\n",
       "      <td>112</td>\n",
       "      <td>111</td>\n",
       "      <td>148</td>\n",
       "      <td>125</td>\n",
       "      <td>125</td>\n",
       "      <td>155</td>\n",
       "      <td>132</td>\n",
       "      <td>134</td>\n",
       "      <td>157</td>\n",
       "      <td>132</td>\n",
       "      <td>132</td>\n",
       "      <td>164</td>\n",
       "      <td>138</td>\n",
       "      <td>137</td>\n",
       "      <td>187</td>\n",
       "      <td>161</td>\n",
       "      <td>161</td>\n",
       "      <td>198</td>\n",
       "      <td>172</td>\n",
       "      <td>173</td>\n",
       "      <td>202</td>\n",
       "      <td>175</td>\n",
       "      <td>175</td>\n",
       "      <td>209</td>\n",
       "      <td>...</td>\n",
       "      <td>207</td>\n",
       "      <td>179</td>\n",
       "      <td>179</td>\n",
       "      <td>195</td>\n",
       "      <td>164</td>\n",
       "      <td>162</td>\n",
       "      <td>197</td>\n",
       "      <td>168</td>\n",
       "      <td>169</td>\n",
       "      <td>203</td>\n",
       "      <td>176</td>\n",
       "      <td>180</td>\n",
       "      <td>192</td>\n",
       "      <td>165</td>\n",
       "      <td>165</td>\n",
       "      <td>188</td>\n",
       "      <td>162</td>\n",
       "      <td>162</td>\n",
       "      <td>184</td>\n",
       "      <td>162</td>\n",
       "      <td>164</td>\n",
       "      <td>185</td>\n",
       "      <td>162</td>\n",
       "      <td>163</td>\n",
       "      <td>161</td>\n",
       "      <td>137</td>\n",
       "      <td>135</td>\n",
       "      <td>155</td>\n",
       "      <td>132</td>\n",
       "      <td>129</td>\n",
       "      <td>96</td>\n",
       "      <td>79</td>\n",
       "      <td>76</td>\n",
       "      <td>24</td>\n",
       "      <td>23</td>\n",
       "      <td>21</td>\n",
       "      <td>3</td>\n",
       "      <td>4</td>\n",
       "      <td>1</td>\n",
       "      <td>0</td>\n",
       "    </tr>\n",
       "    <tr>\n",
       "      <th>10012</th>\n",
       "      <td>132</td>\n",
       "      <td>118</td>\n",
       "      <td>118</td>\n",
       "      <td>167</td>\n",
       "      <td>149</td>\n",
       "      <td>149</td>\n",
       "      <td>175</td>\n",
       "      <td>156</td>\n",
       "      <td>160</td>\n",
       "      <td>184</td>\n",
       "      <td>164</td>\n",
       "      <td>167</td>\n",
       "      <td>195</td>\n",
       "      <td>173</td>\n",
       "      <td>175</td>\n",
       "      <td>210</td>\n",
       "      <td>191</td>\n",
       "      <td>199</td>\n",
       "      <td>212</td>\n",
       "      <td>195</td>\n",
       "      <td>201</td>\n",
       "      <td>210</td>\n",
       "      <td>189</td>\n",
       "      <td>193</td>\n",
       "      <td>218</td>\n",
       "      <td>194</td>\n",
       "      <td>203</td>\n",
       "      <td>217</td>\n",
       "      <td>191</td>\n",
       "      <td>195</td>\n",
       "      <td>217</td>\n",
       "      <td>195</td>\n",
       "      <td>199</td>\n",
       "      <td>224</td>\n",
       "      <td>201</td>\n",
       "      <td>203</td>\n",
       "      <td>236</td>\n",
       "      <td>211</td>\n",
       "      <td>215</td>\n",
       "      <td>250</td>\n",
       "      <td>...</td>\n",
       "      <td>200</td>\n",
       "      <td>169</td>\n",
       "      <td>165</td>\n",
       "      <td>217</td>\n",
       "      <td>183</td>\n",
       "      <td>179</td>\n",
       "      <td>241</td>\n",
       "      <td>211</td>\n",
       "      <td>210</td>\n",
       "      <td>242</td>\n",
       "      <td>216</td>\n",
       "      <td>215</td>\n",
       "      <td>239</td>\n",
       "      <td>214</td>\n",
       "      <td>213</td>\n",
       "      <td>234</td>\n",
       "      <td>208</td>\n",
       "      <td>208</td>\n",
       "      <td>224</td>\n",
       "      <td>198</td>\n",
       "      <td>196</td>\n",
       "      <td>206</td>\n",
       "      <td>180</td>\n",
       "      <td>177</td>\n",
       "      <td>226</td>\n",
       "      <td>202</td>\n",
       "      <td>201</td>\n",
       "      <td>214</td>\n",
       "      <td>192</td>\n",
       "      <td>190</td>\n",
       "      <td>204</td>\n",
       "      <td>181</td>\n",
       "      <td>178</td>\n",
       "      <td>181</td>\n",
       "      <td>159</td>\n",
       "      <td>153</td>\n",
       "      <td>172</td>\n",
       "      <td>151</td>\n",
       "      <td>145</td>\n",
       "      <td>0</td>\n",
       "    </tr>\n",
       "    <tr>\n",
       "      <th>10013</th>\n",
       "      <td>160</td>\n",
       "      <td>124</td>\n",
       "      <td>146</td>\n",
       "      <td>164</td>\n",
       "      <td>131</td>\n",
       "      <td>152</td>\n",
       "      <td>167</td>\n",
       "      <td>127</td>\n",
       "      <td>146</td>\n",
       "      <td>169</td>\n",
       "      <td>124</td>\n",
       "      <td>142</td>\n",
       "      <td>173</td>\n",
       "      <td>134</td>\n",
       "      <td>149</td>\n",
       "      <td>177</td>\n",
       "      <td>139</td>\n",
       "      <td>156</td>\n",
       "      <td>181</td>\n",
       "      <td>141</td>\n",
       "      <td>159</td>\n",
       "      <td>183</td>\n",
       "      <td>137</td>\n",
       "      <td>154</td>\n",
       "      <td>185</td>\n",
       "      <td>139</td>\n",
       "      <td>160</td>\n",
       "      <td>185</td>\n",
       "      <td>145</td>\n",
       "      <td>165</td>\n",
       "      <td>186</td>\n",
       "      <td>148</td>\n",
       "      <td>162</td>\n",
       "      <td>189</td>\n",
       "      <td>157</td>\n",
       "      <td>170</td>\n",
       "      <td>190</td>\n",
       "      <td>155</td>\n",
       "      <td>169</td>\n",
       "      <td>191</td>\n",
       "      <td>...</td>\n",
       "      <td>189</td>\n",
       "      <td>141</td>\n",
       "      <td>159</td>\n",
       "      <td>192</td>\n",
       "      <td>167</td>\n",
       "      <td>179</td>\n",
       "      <td>193</td>\n",
       "      <td>173</td>\n",
       "      <td>183</td>\n",
       "      <td>192</td>\n",
       "      <td>171</td>\n",
       "      <td>181</td>\n",
       "      <td>190</td>\n",
       "      <td>164</td>\n",
       "      <td>171</td>\n",
       "      <td>190</td>\n",
       "      <td>162</td>\n",
       "      <td>171</td>\n",
       "      <td>190</td>\n",
       "      <td>168</td>\n",
       "      <td>179</td>\n",
       "      <td>194</td>\n",
       "      <td>177</td>\n",
       "      <td>187</td>\n",
       "      <td>192</td>\n",
       "      <td>170</td>\n",
       "      <td>180</td>\n",
       "      <td>186</td>\n",
       "      <td>163</td>\n",
       "      <td>165</td>\n",
       "      <td>185</td>\n",
       "      <td>162</td>\n",
       "      <td>167</td>\n",
       "      <td>184</td>\n",
       "      <td>157</td>\n",
       "      <td>166</td>\n",
       "      <td>185</td>\n",
       "      <td>162</td>\n",
       "      <td>172</td>\n",
       "      <td>0</td>\n",
       "    </tr>\n",
       "    <tr>\n",
       "      <th>10014</th>\n",
       "      <td>175</td>\n",
       "      <td>142</td>\n",
       "      <td>121</td>\n",
       "      <td>181</td>\n",
       "      <td>150</td>\n",
       "      <td>134</td>\n",
       "      <td>181</td>\n",
       "      <td>150</td>\n",
       "      <td>133</td>\n",
       "      <td>178</td>\n",
       "      <td>145</td>\n",
       "      <td>127</td>\n",
       "      <td>177</td>\n",
       "      <td>144</td>\n",
       "      <td>122</td>\n",
       "      <td>177</td>\n",
       "      <td>146</td>\n",
       "      <td>123</td>\n",
       "      <td>179</td>\n",
       "      <td>148</td>\n",
       "      <td>126</td>\n",
       "      <td>185</td>\n",
       "      <td>157</td>\n",
       "      <td>140</td>\n",
       "      <td>177</td>\n",
       "      <td>142</td>\n",
       "      <td>113</td>\n",
       "      <td>174</td>\n",
       "      <td>138</td>\n",
       "      <td>112</td>\n",
       "      <td>177</td>\n",
       "      <td>141</td>\n",
       "      <td>117</td>\n",
       "      <td>175</td>\n",
       "      <td>139</td>\n",
       "      <td>108</td>\n",
       "      <td>178</td>\n",
       "      <td>145</td>\n",
       "      <td>117</td>\n",
       "      <td>181</td>\n",
       "      <td>...</td>\n",
       "      <td>183</td>\n",
       "      <td>150</td>\n",
       "      <td>136</td>\n",
       "      <td>178</td>\n",
       "      <td>141</td>\n",
       "      <td>116</td>\n",
       "      <td>184</td>\n",
       "      <td>151</td>\n",
       "      <td>135</td>\n",
       "      <td>188</td>\n",
       "      <td>160</td>\n",
       "      <td>147</td>\n",
       "      <td>183</td>\n",
       "      <td>153</td>\n",
       "      <td>131</td>\n",
       "      <td>180</td>\n",
       "      <td>146</td>\n",
       "      <td>131</td>\n",
       "      <td>173</td>\n",
       "      <td>137</td>\n",
       "      <td>115</td>\n",
       "      <td>157</td>\n",
       "      <td>88</td>\n",
       "      <td>68</td>\n",
       "      <td>146</td>\n",
       "      <td>32</td>\n",
       "      <td>47</td>\n",
       "      <td>145</td>\n",
       "      <td>24</td>\n",
       "      <td>48</td>\n",
       "      <td>159</td>\n",
       "      <td>79</td>\n",
       "      <td>82</td>\n",
       "      <td>174</td>\n",
       "      <td>137</td>\n",
       "      <td>125</td>\n",
       "      <td>175</td>\n",
       "      <td>139</td>\n",
       "      <td>126</td>\n",
       "      <td>6</td>\n",
       "    </tr>\n",
       "  </tbody>\n",
       "</table>\n",
       "<p>5 rows × 2353 columns</p>\n",
       "</div>"
      ],
      "text/plain": [
       "       pixel0000  pixel0001  pixel0002  ...  pixel2350  pixel2351  label\n",
       "10010        183        165        181  ...        187        189      0\n",
       "10011          2          3          1  ...          4          1      0\n",
       "10012        132        118        118  ...        151        145      0\n",
       "10013        160        124        146  ...        162        172      0\n",
       "10014        175        142        121  ...        139        126      6\n",
       "\n",
       "[5 rows x 2353 columns]"
      ]
     },
     "execution_count": 5,
     "metadata": {
      "tags": []
     },
     "output_type": "execute_result"
    }
   ],
   "source": [
    "df.tail()"
   ]
  },
  {
   "cell_type": "code",
   "execution_count": 6,
   "metadata": {
    "executionInfo": {
     "elapsed": 1632,
     "status": "ok",
     "timestamp": 1621490906727,
     "user": {
      "displayName": "Va Fa Napoli",
      "photoUrl": "",
      "userId": "17637464824648077645"
     },
     "user_tz": -330
    },
    "id": "3u4kkVqlrOV2"
   },
   "outputs": [],
   "source": [
    "fractions=np.array([0.8,0.2])\n",
    "df=df.sample(frac=1)\n",
    "train_set, test_set = np.array_split(\n",
    "    df, (fractions[:-1].cumsum() * len(df)).astype(int))"
   ]
  },
  {
   "cell_type": "code",
   "execution_count": 7,
   "metadata": {
    "colab": {
     "base_uri": "https://localhost:8080/"
    },
    "executionInfo": {
     "elapsed": 1479,
     "status": "ok",
     "timestamp": 1621490907142,
     "user": {
      "displayName": "Va Fa Napoli",
      "photoUrl": "",
      "userId": "17637464824648077645"
     },
     "user_tz": -330
    },
    "id": "sb0MbLTF1cGr",
    "outputId": "1c18e860-4bf2-4aae-d8bd-7a7b0b0fe4a6"
   },
   "outputs": [
    {
     "name": "stdout",
     "output_type": "stream",
     "text": [
      "8012\n"
     ]
    }
   ],
   "source": [
    "print(len(train_set))"
   ]
  },
  {
   "cell_type": "code",
   "execution_count": 8,
   "metadata": {
    "colab": {
     "base_uri": "https://localhost:8080/"
    },
    "executionInfo": {
     "elapsed": 1597,
     "status": "ok",
     "timestamp": 1621490907748,
     "user": {
      "displayName": "Va Fa Napoli",
      "photoUrl": "",
      "userId": "17637464824648077645"
     },
     "user_tz": -330
    },
    "id": "6DhB2s7X1qfR",
    "outputId": "3b971adc-8194-4efe-e7a6-02b17487d52d"
   },
   "outputs": [
    {
     "name": "stdout",
     "output_type": "stream",
     "text": [
      "2003\n"
     ]
    }
   ],
   "source": [
    "print(len(test_set))"
   ]
  },
  {
   "cell_type": "code",
   "execution_count": 9,
   "metadata": {
    "colab": {
     "base_uri": "https://localhost:8080/"
    },
    "executionInfo": {
     "elapsed": 1478,
     "status": "ok",
     "timestamp": 1621490910517,
     "user": {
      "displayName": "Va Fa Napoli",
      "photoUrl": "",
      "userId": "17637464824648077645"
     },
     "user_tz": -330
    },
    "id": "rpb3YhzI1sq6",
    "outputId": "80762e95-e27c-4c02-8f52-bc68380cb807"
   },
   "outputs": [
    {
     "data": {
      "text/plain": [
       "array([2, 4, 0, 1, 5, 6, 3], dtype=int64)"
      ]
     },
     "execution_count": 9,
     "metadata": {},
     "output_type": "execute_result"
    }
   ],
   "source": [
    "df.label.unique()"
   ]
  },
  {
   "cell_type": "code",
   "execution_count": 10,
   "metadata": {
    "executionInfo": {
     "elapsed": 820,
     "status": "ok",
     "timestamp": 1621490912060,
     "user": {
      "displayName": "Va Fa Napoli",
      "photoUrl": "",
      "userId": "17637464824648077645"
     },
     "user_tz": -330
    },
    "id": "SBw897AG1vzd"
   },
   "outputs": [],
   "source": [
    "classes={0:('actinic keratoses and intraepithelial carcinomae(Cancer)'),\n",
    "         1:('basal cell carcinoma(Cancer)'),\n",
    "         2:('benign keratosis-like lesions(Non-Cancerous)'),\n",
    "         3:('dermatofibroma(Non-Cancerous)'),\n",
    "         4:('melanocytic nevi(Non-Cancerous)'),\n",
    "         5:('pyogenic granulomas and hemorrhage(Can lead to cancer)'),\n",
    "         6:('melanoma(Cancer)')}\n"
   ]
  },
  {
   "cell_type": "code",
   "execution_count": 11,
   "metadata": {
    "executionInfo": {
     "elapsed": 996,
     "status": "ok",
     "timestamp": 1621490915214,
     "user": {
      "displayName": "Va Fa Napoli",
      "photoUrl": "",
      "userId": "17637464824648077645"
     },
     "user_tz": -330
    },
    "id": "wbxizrkJ15Cj"
   },
   "outputs": [],
   "source": [
    "y_train = train_set['label']\n",
    "x_train = train_set.drop(columns=['label'])\n",
    "y_test = test_set['label']\n",
    "x_test = test_set.drop(columns=['label'])\n"
   ]
  },
  {
   "cell_type": "code",
   "execution_count": 14,
   "metadata": {
    "colab": {
     "base_uri": "https://localhost:8080/",
     "height": 350
    },
    "executionInfo": {
     "elapsed": 1830,
     "status": "ok",
     "timestamp": 1621490917738,
     "user": {
      "displayName": "Va Fa Napoli",
      "photoUrl": "",
      "userId": "17637464824648077645"
     },
     "user_tz": -330
    },
    "id": "I9ykNRTn2SwS",
    "outputId": "1658abb8-2f82-497c-c96f-603a82127c68"
   },
   "outputs": [
    {
     "name": "stderr",
     "output_type": "stream",
     "text": [
      "D:\\Anaconda\\envs\\tensorflow_env\\lib\\site-packages\\seaborn\\_decorators.py:43: FutureWarning: Pass the following variable as a keyword arg: x. From version 0.12, the only valid positional argument will be `data`, and passing other arguments without an explicit keyword will result in an error or misinterpretation.\n",
      "  FutureWarning\n"
     ]
    },
    {
     "data": {
      "text/plain": [
       "<AxesSubplot:xlabel='label', ylabel='count'>"
      ]
     },
     "execution_count": 14,
     "metadata": {},
     "output_type": "execute_result"
    },
    {
     "data": {
      "image/png": "[encoded data removed]",
      "text/plain": [
       "<Figure size 432x288 with 1 Axes>"
      ]
     },
     "metadata": {
      "needs_background": "light"
     },
     "output_type": "display_data"
    }
   ],
   "source": [
    "import seaborn as sns\n",
    "sns.countplot(train_set['label'])"
   ]
  },
  {
   "cell_type": "code",
   "execution_count": 17,
   "metadata": {
    "colab": {
     "base_uri": "https://localhost:8080/"
    },
    "executionInfo": {
     "elapsed": 2636,
     "status": "ok",
     "timestamp": 1621490921765,
     "user": {
      "displayName": "Va Fa Napoli",
      "photoUrl": "",
      "userId": "17637464824648077645"
     },
     "user_tz": -330
    },
    "id": "XxH28yNQ2d89",
    "outputId": "5c5d953b-fb0f-405d-a0a1-2a933fa266b2"
   },
   "outputs": [],
   "source": [
    "from imblearn.over_sampling import RandomOverSampler \n",
    "oversample = RandomOverSampler()\n",
    "x_train,y_train  = oversample.fit_resample(x_train,y_train)"
   ]
  },
  {
   "cell_type": "code",
   "execution_count": 18,
   "metadata": {
    "colab": {
     "base_uri": "https://localhost:8080/",
     "height": 335
    },
    "executionInfo": {
     "elapsed": 1746,
     "status": "ok",
     "timestamp": 1621490924746,
     "user": {
      "displayName": "Va Fa Napoli",
      "photoUrl": "",
      "userId": "17637464824648077645"
     },
     "user_tz": -330
    },
    "id": "aBG591FV4FLV",
    "outputId": "90a73830-7c1e-4761-c32d-5d2313bfa78e"
   },
   "outputs": [
    {
     "name": "stderr",
     "output_type": "stream",
     "text": [
      "D:\\Anaconda\\envs\\tensorflow_env\\lib\\site-packages\\seaborn\\_decorators.py:43: FutureWarning: Pass the following variable as a keyword arg: x. From version 0.12, the only valid positional argument will be `data`, and passing other arguments without an explicit keyword will result in an error or misinterpretation.\n",
      "  FutureWarning\n"
     ]
    },
    {
     "data": {
      "text/plain": [
       "<AxesSubplot:xlabel='label', ylabel='count'>"
      ]
     },
     "execution_count": 18,
     "metadata": {},
     "output_type": "execute_result"
    },
    {
     "data": {
      "image/png": "[encoded data removed]",
      "text/plain": [
       "<Figure size 432x288 with 1 Axes>"
      ]
     },
     "metadata": {
      "needs_background": "light"
     },
     "output_type": "display_data"
    }
   ],
   "source": [
    "sns.countplot(y_train)"
   ]
  },
  {
   "cell_type": "code",
   "execution_count": 19,
   "metadata": {
    "colab": {
     "base_uri": "https://localhost:8080/"
    },
    "executionInfo": {
     "elapsed": 1759,
     "status": "ok",
     "timestamp": 1621491086015,
     "user": {
      "displayName": "Va Fa Napoli",
      "photoUrl": "",
      "userId": "17637464824648077645"
     },
     "user_tz": -330
    },
    "id": "5LosZ-iYfK_J",
    "outputId": "eb3795bb-adfe-4d24-a086-f3eda9e31ce9"
   },
   "outputs": [
    {
     "name": "stdout",
     "output_type": "stream",
     "text": [
      "Number of  actinic keratoses and intraepithelial carcinomae(Cancer) images:  5334\n",
      "Number of  basal cell carcinoma(Cancer) images:  5334\n",
      "Number of  benign keratosis-like lesions(Non-Cancerous) images:  5334\n",
      "Number of  dermatofibroma(Non-Cancerous) images:  5334\n",
      "Number of  melanocytic nevi(Non-Cancerous) images:  5334\n",
      "Number of  pyogenic granulomas and hemorrhage(Can lead to cancer) images:  5334\n",
      "Number of  melanoma(Cancer) images:  5334\n"
     ]
    }
   ],
   "source": [
    "for k in range(7):\n",
    "  print(\"Number of \", classes[k],\"images: \", len([i for i in y_train if i==k]))"
   ]
  },
  {
   "cell_type": "code",
   "execution_count": 20,
   "metadata": {
    "colab": {
     "base_uri": "https://localhost:8080/",
     "height": 809
    },
    "executionInfo": {
     "elapsed": 1924,
     "status": "ok",
     "timestamp": 1621491100464,
     "user": {
      "displayName": "Va Fa Napoli",
      "photoUrl": "",
      "userId": "17637464824648077645"
     },
     "user_tz": -330
    },
    "id": "eeV1BAjQ4LCo",
    "outputId": "456c8919-4e85-4a8c-98d8-c02fb78e2453"
   },
   "outputs": [
    {
     "data": {
      "image/png": "[encoded data removed]",
      "text/plain": [
       "<Figure size 432x288 with 1 Axes>"
      ]
     },
     "metadata": {
      "needs_background": "light"
     },
     "output_type": "display_data"
    },
    {
     "data": {
      "image/png": "[encoded data removed]",
      "text/plain": [
       "<Figure size 432x288 with 1 Axes>"
      ]
     },
     "metadata": {
      "needs_background": "light"
     },
     "output_type": "display_data"
    },
    {
     "data": {
      "image/png": "[encoded data removed]",
      "text/plain": [
       "<Figure size 432x288 with 1 Axes>"
      ]
     },
     "metadata": {
      "needs_background": "light"
     },
     "output_type": "display_data"
    }
   ],
   "source": [
    "import matplotlib.pyplot as plt\n",
    "import random\n",
    "x_train = np.array(x_train, dtype=np.uint8).reshape(-1, 28, 28, 3)\n",
    "for _ in range(3):\n",
    "  num = random.randint(0, 8000)\n",
    "  plt.imshow(x_train[num].reshape(28, 28, 3))\n",
    "  plt.title(classes[y_train[num]])\n",
    "  plt.show()\n"
   ]
  },
  {
   "cell_type": "code",
   "execution_count": 21,
   "metadata": {
    "executionInfo": {
     "elapsed": 2433,
     "status": "ok",
     "timestamp": 1621491107417,
     "user": {
      "displayName": "Va Fa Napoli",
      "photoUrl": "",
      "userId": "17637464824648077645"
     },
     "user_tz": -330
    },
    "id": "0lp3af5p4Qh0"
   },
   "outputs": [],
   "source": [
    "from tensorflow.keras.models import Sequential\n",
    "from tensorflow.keras.layers import Conv2D, Flatten, Dense, MaxPool2D\n",
    "import tensorflow as tf"
   ]
  },
  {
   "cell_type": "code",
   "execution_count": 22,
   "metadata": {
    "colab": {
     "base_uri": "https://localhost:8080/"
    },
    "executionInfo": {
     "elapsed": 1679,
     "status": "ok",
     "timestamp": 1621491109880,
     "user": {
      "displayName": "Va Fa Napoli",
      "photoUrl": "",
      "userId": "17637464824648077645"
     },
     "user_tz": -330
    },
    "id": "WuDtJD0i5ZOg",
    "outputId": "1a0b55e9-5286-415a-a8f1-7a8c8c3bd79a"
   },
   "outputs": [
    {
     "name": "stdout",
     "output_type": "stream",
     "text": [
      "Model: \"sequential\"\n",
      "_________________________________________________________________\n",
      "Layer (type)                 Output Shape              Param #   \n",
      "=================================================================\n",
      "conv2d (Conv2D)              (None, 28, 28, 16)        448       \n",
      "_________________________________________________________________\n",
      "max_pooling2d (MaxPooling2D) (None, 14, 14, 16)        0         \n",
      "_________________________________________________________________\n",
      "batch_normalization (BatchNo (None, 14, 14, 16)        64        \n",
      "_________________________________________________________________\n",
      "conv2d_1 (Conv2D)            (None, 12, 12, 32)        4640      \n",
      "_________________________________________________________________\n",
      "conv2d_2 (Conv2D)            (None, 10, 10, 64)        18496     \n",
      "_________________________________________________________________\n",
      "max_pooling2d_1 (MaxPooling2 (None, 5, 5, 64)          0         \n",
      "_________________________________________________________________\n",
      "batch_normalization_1 (Batch (None, 5, 5, 64)          256       \n",
      "_________________________________________________________________\n",
      "conv2d_3 (Conv2D)            (None, 3, 3, 128)         73856     \n",
      "_________________________________________________________________\n",
      "conv2d_4 (Conv2D)            (None, 1, 1, 256)         295168    \n",
      "_________________________________________________________________\n",
      "flatten (Flatten)            (None, 256)               0         \n",
      "_________________________________________________________________\n",
      "dropout (Dropout)            (None, 256)               0         \n",
      "_________________________________________________________________\n",
      "dense (Dense)                (None, 256)               65792     \n",
      "_________________________________________________________________\n",
      "batch_normalization_2 (Batch (None, 256)               1024      \n",
      "_________________________________________________________________\n",
      "dropout_1 (Dropout)          (None, 256)               0         \n",
      "_________________________________________________________________\n",
      "dense_1 (Dense)              (None, 128)               32896     \n",
      "_________________________________________________________________\n",
      "batch_normalization_3 (Batch (None, 128)               512       \n",
      "_________________________________________________________________\n",
      "dense_2 (Dense)              (None, 64)                8256      \n",
      "_________________________________________________________________\n",
      "batch_normalization_4 (Batch (None, 64)                256       \n",
      "_________________________________________________________________\n",
      "dropout_2 (Dropout)          (None, 64)                0         \n",
      "_________________________________________________________________\n",
      "dense_3 (Dense)              (None, 32)                2080      \n",
      "_________________________________________________________________\n",
      "batch_normalization_5 (Batch (None, 32)                128       \n",
      "_________________________________________________________________\n",
      "dense_4 (Dense)              (None, 7)                 231       \n",
      "=================================================================\n",
      "Total params: 504,103\n",
      "Trainable params: 502,983\n",
      "Non-trainable params: 1,120\n",
      "_________________________________________________________________\n"
     ]
    }
   ],
   "source": [
    "model = Sequential()\n",
    "model.add(Conv2D(16, kernel_size=(3,3), input_shape=(28, 28, 3), activation='relu', padding='same'))\n",
    "model.add(MaxPool2D(pool_size=(2,2)))\n",
    "model.add(tf.keras.layers.BatchNormalization())\n",
    "model.add(Conv2D(32, kernel_size=(3,3), activation='relu'))\n",
    "model.add(Conv2D(64, kernel_size=(3,3), activation='relu'))\n",
    "model.add(MaxPool2D(pool_size=(2,2)))\n",
    "model.add(tf.keras.layers.BatchNormalization())\n",
    "model.add(Conv2D(128, kernel_size=(3,3), activation='relu'))\n",
    "model.add(Conv2D(256, kernel_size=(3,3), activation='relu'))\n",
    "model.add(Flatten())\n",
    "model.add(tf.keras.layers.Dropout(0.2))\n",
    "model.add(Dense(256,activation='relu'))\n",
    "model.add(tf.keras.layers.BatchNormalization())\n",
    "model.add(tf.keras.layers.Dropout(0.2))\n",
    "model.add(Dense(128,activation='relu'))\n",
    "model.add(tf.keras.layers.BatchNormalization())\n",
    "model.add(Dense(64,activation='relu'))\n",
    "model.add(tf.keras.layers.BatchNormalization())\n",
    "model.add(tf.keras.layers.Dropout(0.2))\n",
    "model.add(Dense(32,activation='relu'))\n",
    "model.add(tf.keras.layers.BatchNormalization())\n",
    "model.add(Dense(7,activation='softmax'))\n",
    "\n",
    "model.summary()"
   ]
  },
  {
   "cell_type": "code",
   "execution_count": null,
   "metadata": {
    "id": "wdJ7q76J6mMW"
   },
   "outputs": [],
   "source": [
    "#Checkpoint\n",
    "callback = tf.keras.callbacks.ModelCheckpoint('D:/Coding/Skin_Cancer_Detection/Checkpoints/model-{epoch:3d}.hdf5', monitor='val_accuracy', mode='auto', verbose=0, save_best_only=True)\n"
   ]
  },
  {
   "cell_type": "code",
   "execution_count": null,
   "metadata": {
    "colab": {
     "base_uri": "https://localhost:8080/"
    },
    "executionInfo": {
     "elapsed": 2581008,
     "status": "ok",
     "timestamp": 1621328487715,
     "user": {
      "displayName": "Va Fa Napoli",
      "photoUrl": "",
      "userId": "17637464824648077645"
     },
     "user_tz": -330
    },
    "id": "P9JdY1Rz73tW",
    "outputId": "47cea216-b573-406a-a778-1f8db6a000e7"
   },
   "outputs": [
    {
     "name": "stdout",
     "output_type": "stream",
     "text": [
      "Epoch 1/50\n",
      "235/235 [==============================] - 55s 226ms/step - loss: 1.5970 - accuracy: 0.4270 - val_loss: 2.7615 - val_accuracy: 0.1671\n",
      "Epoch 2/50\n",
      "235/235 [==============================] - 51s 218ms/step - loss: 0.4430 - accuracy: 0.8532 - val_loss: 1.7377 - val_accuracy: 0.3910\n",
      "Epoch 3/50\n",
      "235/235 [==============================] - 51s 219ms/step - loss: 0.2687 - accuracy: 0.9068 - val_loss: 1.0800 - val_accuracy: 0.5614\n",
      "Epoch 4/50\n",
      "235/235 [==============================] - 51s 218ms/step - loss: 0.2037 - accuracy: 0.9285 - val_loss: 0.6539 - val_accuracy: 0.7073\n",
      "Epoch 5/50\n",
      "235/235 [==============================] - 51s 219ms/step - loss: 0.1672 - accuracy: 0.9431 - val_loss: 0.7810 - val_accuracy: 0.6240\n",
      "Epoch 6/50\n",
      "235/235 [==============================] - 51s 218ms/step - loss: 0.1356 - accuracy: 0.9538 - val_loss: 0.7265 - val_accuracy: 0.6360\n",
      "Epoch 7/50\n",
      "235/235 [==============================] - 51s 219ms/step - loss: 0.1055 - accuracy: 0.9641 - val_loss: 0.5894 - val_accuracy: 0.7157\n",
      "Epoch 8/50\n",
      "235/235 [==============================] - 52s 219ms/step - loss: 0.0888 - accuracy: 0.9681 - val_loss: 1.0796 - val_accuracy: 0.6034\n",
      "Epoch 9/50\n",
      "235/235 [==============================] - 52s 221ms/step - loss: 0.0987 - accuracy: 0.9637 - val_loss: 0.5342 - val_accuracy: 0.7200\n",
      "Epoch 10/50\n",
      "235/235 [==============================] - 52s 223ms/step - loss: 0.0902 - accuracy: 0.9680 - val_loss: 0.3215 - val_accuracy: 0.8659\n",
      "Epoch 11/50\n",
      "235/235 [==============================] - 51s 219ms/step - loss: 0.0807 - accuracy: 0.9720 - val_loss: 0.4827 - val_accuracy: 0.7955\n",
      "Epoch 12/50\n",
      "235/235 [==============================] - 51s 219ms/step - loss: 0.0549 - accuracy: 0.9804 - val_loss: 0.3868 - val_accuracy: 0.8350\n",
      "Epoch 13/50\n",
      "235/235 [==============================] - 51s 219ms/step - loss: 0.0461 - accuracy: 0.9841 - val_loss: 0.4050 - val_accuracy: 0.8551\n",
      "Epoch 14/50\n",
      "235/235 [==============================] - 51s 219ms/step - loss: 0.0674 - accuracy: 0.9768 - val_loss: 0.2845 - val_accuracy: 0.8812\n",
      "Epoch 15/50\n",
      "235/235 [==============================] - 51s 218ms/step - loss: 0.0436 - accuracy: 0.9852 - val_loss: 0.2200 - val_accuracy: 0.9054\n",
      "Epoch 16/50\n",
      "235/235 [==============================] - 51s 218ms/step - loss: 0.0562 - accuracy: 0.9822 - val_loss: 0.2505 - val_accuracy: 0.9028\n",
      "Epoch 17/50\n",
      "235/235 [==============================] - 52s 219ms/step - loss: 0.0355 - accuracy: 0.9888 - val_loss: 0.6935 - val_accuracy: 0.7336\n",
      "Epoch 18/50\n",
      "235/235 [==============================] - 52s 220ms/step - loss: 0.0380 - accuracy: 0.9873 - val_loss: 0.7231 - val_accuracy: 0.7449\n",
      "Epoch 19/50\n",
      "235/235 [==============================] - 52s 220ms/step - loss: 0.0399 - accuracy: 0.9865 - val_loss: 0.4713 - val_accuracy: 0.8125\n",
      "Epoch 20/50\n",
      "235/235 [==============================] - 52s 221ms/step - loss: 0.0374 - accuracy: 0.9876 - val_loss: 0.3241 - val_accuracy: 0.8918\n",
      "Epoch 21/50\n",
      "235/235 [==============================] - 52s 219ms/step - loss: 0.0255 - accuracy: 0.9912 - val_loss: 1.3405 - val_accuracy: 0.6872\n",
      "Epoch 22/50\n",
      "235/235 [==============================] - 52s 219ms/step - loss: 0.0728 - accuracy: 0.9774 - val_loss: 0.2866 - val_accuracy: 0.8774\n",
      "Epoch 23/50\n",
      "235/235 [==============================] - 51s 219ms/step - loss: 0.0311 - accuracy: 0.9896 - val_loss: 0.3294 - val_accuracy: 0.8741\n",
      "Epoch 24/50\n",
      "235/235 [==============================] - 52s 219ms/step - loss: 0.0232 - accuracy: 0.9922 - val_loss: 0.2262 - val_accuracy: 0.9152\n",
      "Epoch 25/50\n",
      "235/235 [==============================] - 51s 219ms/step - loss: 0.0192 - accuracy: 0.9943 - val_loss: 0.1048 - val_accuracy: 0.9629\n",
      "Epoch 26/50\n",
      "235/235 [==============================] - 52s 220ms/step - loss: 0.0230 - accuracy: 0.9927 - val_loss: 0.0455 - val_accuracy: 0.9816\n",
      "Epoch 27/50\n",
      "235/235 [==============================] - 51s 219ms/step - loss: 0.0246 - accuracy: 0.9915 - val_loss: 0.0709 - val_accuracy: 0.9697\n",
      "Epoch 28/50\n",
      "235/235 [==============================] - 51s 219ms/step - loss: 0.0417 - accuracy: 0.9876 - val_loss: 0.0841 - val_accuracy: 0.9737\n",
      "Epoch 29/50\n",
      "235/235 [==============================] - 51s 219ms/step - loss: 0.0168 - accuracy: 0.9947 - val_loss: 0.1161 - val_accuracy: 0.9527\n",
      "Epoch 30/50\n",
      "235/235 [==============================] - 51s 219ms/step - loss: 0.0161 - accuracy: 0.9952 - val_loss: 0.2657 - val_accuracy: 0.9110\n",
      "Epoch 31/50\n",
      "235/235 [==============================] - 51s 218ms/step - loss: 0.0286 - accuracy: 0.9912 - val_loss: 0.1160 - val_accuracy: 0.9570\n",
      "Epoch 32/50\n",
      "235/235 [==============================] - 51s 218ms/step - loss: 0.0122 - accuracy: 0.9960 - val_loss: 0.1690 - val_accuracy: 0.9348\n",
      "Epoch 33/50\n",
      "235/235 [==============================] - 51s 219ms/step - loss: 0.0111 - accuracy: 0.9964 - val_loss: 0.1454 - val_accuracy: 0.9499\n",
      "Epoch 34/50\n",
      "235/235 [==============================] - 52s 219ms/step - loss: 0.0212 - accuracy: 0.9935 - val_loss: 0.6549 - val_accuracy: 0.8129\n",
      "Epoch 35/50\n",
      "235/235 [==============================] - 51s 219ms/step - loss: 0.0265 - accuracy: 0.9913 - val_loss: 0.0465 - val_accuracy: 0.9808\n",
      "Epoch 36/50\n",
      "235/235 [==============================] - 52s 220ms/step - loss: 0.0259 - accuracy: 0.9921 - val_loss: 0.1301 - val_accuracy: 0.9551\n",
      "Epoch 37/50\n",
      "235/235 [==============================] - 52s 220ms/step - loss: 0.0106 - accuracy: 0.9966 - val_loss: 0.1224 - val_accuracy: 0.9617\n",
      "Epoch 38/50\n",
      "235/235 [==============================] - 52s 219ms/step - loss: 0.0178 - accuracy: 0.9942 - val_loss: 0.5087 - val_accuracy: 0.8475\n",
      "Epoch 39/50\n",
      "235/235 [==============================] - 51s 219ms/step - loss: 0.0268 - accuracy: 0.9914 - val_loss: 0.5715 - val_accuracy: 0.8457\n",
      "Epoch 40/50\n",
      "235/235 [==============================] - 52s 219ms/step - loss: 0.0078 - accuracy: 0.9976 - val_loss: 0.1530 - val_accuracy: 0.9507\n",
      "Epoch 41/50\n",
      "235/235 [==============================] - 51s 219ms/step - loss: 0.0110 - accuracy: 0.9964 - val_loss: 0.4223 - val_accuracy: 0.8807\n",
      "Epoch 42/50\n",
      "235/235 [==============================] - 51s 219ms/step - loss: 0.0156 - accuracy: 0.9952 - val_loss: 0.2583 - val_accuracy: 0.9254\n",
      "Epoch 43/50\n",
      "235/235 [==============================] - 52s 219ms/step - loss: 0.0135 - accuracy: 0.9960 - val_loss: 1.9789 - val_accuracy: 0.5758\n",
      "Epoch 44/50\n",
      "235/235 [==============================] - 52s 219ms/step - loss: 0.0233 - accuracy: 0.9930 - val_loss: 0.0623 - val_accuracy: 0.9805\n",
      "Epoch 45/50\n",
      "235/235 [==============================] - 51s 219ms/step - loss: 0.0151 - accuracy: 0.9953 - val_loss: 0.0432 - val_accuracy: 0.9868\n",
      "Epoch 46/50\n",
      "235/235 [==============================] - 51s 218ms/step - loss: 0.0143 - accuracy: 0.9955 - val_loss: 0.2439 - val_accuracy: 0.9347\n",
      "Epoch 47/50\n",
      "235/235 [==============================] - 51s 219ms/step - loss: 0.0168 - accuracy: 0.9950 - val_loss: 0.0329 - val_accuracy: 0.9857\n",
      "Epoch 48/50\n",
      "235/235 [==============================] - 51s 218ms/step - loss: 0.0097 - accuracy: 0.9968 - val_loss: 0.1304 - val_accuracy: 0.9697\n",
      "Epoch 49/50\n",
      "235/235 [==============================] - 51s 217ms/step - loss: 0.0077 - accuracy: 0.9977 - val_loss: 0.1145 - val_accuracy: 0.9685\n",
      "Epoch 50/50\n",
      "235/235 [==============================] - 51s 218ms/step - loss: 0.0131 - accuracy: 0.9958 - val_loss: 0.0422 - val_accuracy: 0.9853\n"
     ]
    }
   ],
   "source": [
    "Optimizer = tf.keras.optimizers.Adam(lr=0.001)\n",
    "model.compile(loss='sparse_categorical_crossentropy', optimizer=Optimizer, metrics=['accuracy'])\n",
    "\n",
    "history = model.fit(x_train,\n",
    "                    y_train,\n",
    "                    validation_split=0.2,\n",
    "                    batch_size=128,\n",
    "                    epochs=50,\n",
    "                    shuffle=True,\n",
    "                    callbacks=[callback])"
   ]
  },
  {
   "cell_type": "code",
   "execution_count": null,
   "metadata": {
    "id": "4l8uEWYT9BhQ"
   },
   "outputs": [],
   "source": []
  },
  {
   "cell_type": "code",
   "execution_count": null,
   "metadata": {
    "colab": {
     "base_uri": "https://localhost:8080/",
     "height": 295
    },
    "executionInfo": {
     "elapsed": 1144,
     "status": "ok",
     "timestamp": 1621329755359,
     "user": {
      "displayName": "Va Fa Napoli",
      "photoUrl": "",
      "userId": "17637464824648077645"
     },
     "user_tz": -330
    },
    "id": "EG1VFjp-H2oh",
    "outputId": "19033efb-45f2-4e70-c0b1-2fc06020a549"
   },
   "outputs": [
    {
     "data": {
      "image/png": "[encoded data removed]",
      "text/plain": [
       "<Figure size 432x288 with 1 Axes>"
      ]
     },
     "metadata": {
      "needs_background": "light",
      "tags": []
     },
     "output_type": "display_data"
    }
   ],
   "source": [
    "plt.plot(history.history['accuracy'])\n",
    "plt.plot(history.history['val_accuracy'])\n",
    "plt.title('Model Accuracy')\n",
    "plt.xlabel('Epoch')\n",
    "plt.ylabel('Accuracy')\n",
    "plt.legend(['train', 'val'], loc = 'upper left')\n",
    "plt.show()"
   ]
  },
  {
   "cell_type": "code",
   "execution_count": null,
   "metadata": {
    "colab": {
     "base_uri": "https://localhost:8080/",
     "height": 295
    },
    "executionInfo": {
     "elapsed": 987,
     "status": "ok",
     "timestamp": 1621329758820,
     "user": {
      "displayName": "Va Fa Napoli",
      "photoUrl": "",
      "userId": "17637464824648077645"
     },
     "user_tz": -330
    },
    "id": "zLKUKzd3JUip",
    "outputId": "1f5d9b32-6303-47bf-fa34-2cb8f4862873"
   },
   "outputs": [
    {
     "data": {
      "image/png": "[encoded data removed]",
      "text/plain": [
       "<Figure size 432x288 with 1 Axes>"
      ]
     },
     "metadata": {
      "needs_background": "light",
      "tags": []
     },
     "output_type": "display_data"
    }
   ],
   "source": [
    "plt.plot(history.history['loss'])\n",
    "plt.plot(history.history['val_loss'])\n",
    "plt.title('model loss')\n",
    "plt.ylabel('loss')\n",
    "plt.xlabel('epoch')\n",
    "plt.legend(['train', 'val'], loc='upper left')\n",
    "plt.show()"
   ]
  },
  {
   "cell_type": "code",
   "execution_count": 27,
   "metadata": {
    "executionInfo": {
     "elapsed": 2015,
     "status": "ok",
     "timestamp": 1621491146258,
     "user": {
      "displayName": "Va Fa Napoli",
      "photoUrl": "",
      "userId": "17637464824648077645"
     },
     "user_tz": -330
    },
    "id": "KlksJw56Jcvd"
   },
   "outputs": [],
   "source": [
    "model.load_weights('D:/Coding/Skin_Cancer_Detection/Checkpoints/model-45.hdf5')"
   ]
  },
  {
   "cell_type": "code",
   "execution_count": null,
   "metadata": {
    "id": "RfgTt55_JnD4",
    "scrolled": true
   },
   "outputs": [],
   "source": [
    "x_test = np.array(x_test).reshape(-1, 28, 28, 3)\n",
    "loss, acc = model.evaluate(x_test, y_test, verbose=2)"
   ]
  },
  {
   "cell_type": "code",
   "execution_count": 30,
   "metadata": {
    "colab": {
     "base_uri": "https://localhost:8080/"
    },
    "executionInfo": {
     "elapsed": 983,
     "status": "ok",
     "timestamp": 1621491685787,
     "user": {
      "displayName": "Va Fa Napoli",
      "photoUrl": "",
      "userId": "17637464824648077645"
     },
     "user_tz": -330
    },
    "id": "Vy8ETq0gJyM0",
    "outputId": "6c1d5c37-ba6e-47a1-fd9a-c9d4c7a3c3d9"
   },
   "outputs": [
    {
     "name": "stdout",
     "output_type": "stream",
     "text": [
      "dermatofibroma(Non-Cancerous)\n",
      "Confidence:  64.04440402984619 %\n"
     ]
    }
   ],
   "source": [
    "import PIL\n",
    "img = PIL.Image.open('D:/Coding/Skin_Cancer_Detection/testing images/moleimgs.jpg')\n",
    "img = img.resize((28, 28))\n",
    "img = np.array(img).reshape(-1, 28, 28, 3)\n",
    "result = model.predict(img)\n",
    "\n",
    "# print(result[0])\n",
    "\n",
    "result=result.tolist()\n",
    "max_prob=max(result[0])\n",
    "class_ind=result[0].index(max_prob)\n",
    "print(classes[class_ind])\n",
    "print(\"Confidence: \", max(result[0])*100,\"%\")"
   ]
  },
  {
   "cell_type": "code",
   "execution_count": null,
   "metadata": {
    "id": "iQX8WB4ABUtY"
   },
   "outputs": [],
   "source": []
  }
 ],
 "metadata": {
  "colab": {
   "authorship_tag": "ABX9TyPYy4s2G67O+XNXznvwLOoc",
   "collapsed_sections": [],
   "name": "skin_cancer_training.ipynb",
   "provenance": []
  },
  "kernelspec": {
   "display_name": "Python 3",
   "language": "python",
   "name": "python3"
  },
  "language_info": {
   "codemirror_mode": {
    "name": "ipython",
    "version": 3
   },
   "file_extension": ".py",
   "mimetype": "text/x-python",
   "name": "python",
   "nbconvert_exporter": "python",
   "pygments_lexer": "ipython3",
   "version": "3.7.9"
  }
 },
 "nbformat": 4,
 "nbformat_minor": 1
}
